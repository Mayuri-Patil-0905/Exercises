{
 "cells": [
  {
   "cell_type": "code",
   "execution_count": 1,
   "id": "c24b445d",
   "metadata": {},
   "outputs": [
    {
     "data": {
      "text/plain": [
       "2401"
      ]
     },
     "execution_count": 1,
     "metadata": {},
     "output_type": "execute_result"
    }
   ],
   "source": [
    "#Exercise 1\n",
    "#What is 7 to the power of 4?\n",
    "\n",
    "7**4"
   ]
  },
  {
   "cell_type": "code",
   "execution_count": 3,
   "id": "5239f9a9",
   "metadata": {},
   "outputs": [],
   "source": [
    "#Split this string\n",
    "\n",
    "s=\"Hi there Mayuri!\""
   ]
  },
  {
   "cell_type": "code",
   "execution_count": 4,
   "id": "0be375c1",
   "metadata": {},
   "outputs": [
    {
     "data": {
      "text/plain": [
       "'Hi there Mayuri!'"
      ]
     },
     "execution_count": 4,
     "metadata": {},
     "output_type": "execute_result"
    }
   ],
   "source": [
    "s"
   ]
  },
  {
   "cell_type": "code",
   "execution_count": 5,
   "id": "ad8c1839",
   "metadata": {},
   "outputs": [
    {
     "data": {
      "text/plain": [
       "str"
      ]
     },
     "execution_count": 5,
     "metadata": {},
     "output_type": "execute_result"
    }
   ],
   "source": [
    "type(s)"
   ]
  },
  {
   "cell_type": "code",
   "execution_count": 6,
   "id": "c12e2d98",
   "metadata": {},
   "outputs": [
    {
     "name": "stdout",
     "output_type": "stream",
     "text": [
      "['Hi', 'there', 'Mayuri!']\n"
     ]
    }
   ],
   "source": [
    "s=\"Hi there Mayuri!\"\n",
    "\n",
    "lst=s.split(' ')\n",
    "print(lst)"
   ]
  },
  {
   "cell_type": "code",
   "execution_count": 7,
   "id": "b17e3f53",
   "metadata": {},
   "outputs": [
    {
     "name": "stdout",
     "output_type": "stream",
     "text": [
      "The diameter of Earth is 12742 kilometers.\n"
     ]
    }
   ],
   "source": [
    "#Given the variables: Use .format() to print the following string:\n",
    "\n",
    "planet=\"Earth\"\n",
    "diameter=12742\n",
    "print(\"The diameter of {} is {} kilometers.\".format(planet,diameter))"
   ]
  },
  {
   "cell_type": "code",
   "execution_count": 8,
   "id": "ea7b4d24",
   "metadata": {},
   "outputs": [],
   "source": [
    "#Given this nested list, use indexing to grab the word \"hello\"\n",
    "\n",
    "lst=[1,2,[3,4],[5,[100,200,['hello']],23,11],1,7]"
   ]
  },
  {
   "cell_type": "code",
   "execution_count": 9,
   "id": "3de1207d",
   "metadata": {},
   "outputs": [
    {
     "data": {
      "text/plain": [
       "[1, 2, [3, 4], [5, [100, 200, ['hello']], 23, 11], 1, 7]"
      ]
     },
     "execution_count": 9,
     "metadata": {},
     "output_type": "execute_result"
    }
   ],
   "source": [
    "lst"
   ]
  },
  {
   "cell_type": "code",
   "execution_count": 10,
   "id": "042ae8a3",
   "metadata": {},
   "outputs": [
    {
     "data": {
      "text/plain": [
       "['hello']"
      ]
     },
     "execution_count": 10,
     "metadata": {},
     "output_type": "execute_result"
    }
   ],
   "source": [
    "lst[3][1][2]"
   ]
  },
  {
   "cell_type": "code",
   "execution_count": 11,
   "id": "c1d9a5ac",
   "metadata": {},
   "outputs": [],
   "source": [
    "#Given this nested dictionary grab the word \"hello\". Be prepared, this will be annoying/tricky\n",
    "\n",
    "d={'k1':[1,2,3,{'tricky':['oh','man','inception',{'target':[1,2,3,'hello']}]}]}"
   ]
  },
  {
   "cell_type": "code",
   "execution_count": 12,
   "id": "8a5755d4",
   "metadata": {},
   "outputs": [
    {
     "data": {
      "text/plain": [
       "{'k1': [1,\n",
       "  2,\n",
       "  3,\n",
       "  {'tricky': ['oh', 'man', 'inception', {'target': [1, 2, 3, 'hello']}]}]}"
      ]
     },
     "execution_count": 12,
     "metadata": {},
     "output_type": "execute_result"
    }
   ],
   "source": [
    "d"
   ]
  },
  {
   "cell_type": "code",
   "execution_count": 14,
   "id": "8823b8c9",
   "metadata": {},
   "outputs": [
    {
     "data": {
      "text/plain": [
       "'hello'"
      ]
     },
     "execution_count": 14,
     "metadata": {},
     "output_type": "execute_result"
    }
   ],
   "source": [
    "d['k1'][3]['tricky'][3]['target'][3]"
   ]
  },
  {
   "cell_type": "code",
   "execution_count": 42,
   "id": "419a5210",
   "metadata": {},
   "outputs": [],
   "source": [
    "# create a function that grabs the email website domain from a string in the form: user@domain.com\n",
    "\n",
    "def email():\n",
    "    email=input(\"Enter :: \")\n",
    "    dom=email.split('@')[1]\n",
    "    print(str(dom))"
   ]
  },
  {
   "cell_type": "code",
   "execution_count": 44,
   "id": "a9774a60",
   "metadata": {},
   "outputs": [
    {
     "name": "stdout",
     "output_type": "stream",
     "text": [
      "Enter :: mayuri@gmail.com\n",
      "gmail.com\n"
     ]
    }
   ],
   "source": [
    "email()"
   ]
  },
  {
   "cell_type": "code",
   "execution_count": 47,
   "id": "a7731b8d",
   "metadata": {},
   "outputs": [],
   "source": [
    "#Create a basic function that returns True if the word 'dog' is contained in the input\n",
    "\n",
    "def findDog():\n",
    "    string=input(\"Enter String : \")\n",
    "    if \"dog\" in string:\n",
    "        print(\"Yes\")\n",
    "    else:\n",
    "        print(\"no\")\n",
    "    "
   ]
  },
  {
   "cell_type": "code",
   "execution_count": 50,
   "id": "353f4b16",
   "metadata": {},
   "outputs": [
    {
     "name": "stdout",
     "output_type": "stream",
     "text": [
      "Enter String : if there is dog?\n",
      "Yes\n"
     ]
    }
   ],
   "source": [
    "findDog()"
   ]
  },
  {
   "cell_type": "code",
   "execution_count": 61,
   "id": "46d9458c",
   "metadata": {},
   "outputs": [],
   "source": [
    "seq=['soup','dog','salad','cat','great']\n",
    "\n",
    "som=lambda q:q[0]!='s'"
   ]
  },
  {
   "cell_type": "code",
   "execution_count": 62,
   "id": "370017b6",
   "metadata": {},
   "outputs": [
    {
     "data": {
      "text/plain": [
       "[False, True, False, True, True]"
      ]
     },
     "execution_count": 62,
     "metadata": {},
     "output_type": "execute_result"
    }
   ],
   "source": [
    "list(map(som,seq))"
   ]
  },
  {
   "cell_type": "code",
   "execution_count": 63,
   "id": "9df274d9",
   "metadata": {},
   "outputs": [
    {
     "data": {
      "text/plain": [
       "['dog', 'cat', 'great']"
      ]
     },
     "execution_count": 63,
     "metadata": {},
     "output_type": "execute_result"
    }
   ],
   "source": [
    "list(filter(som,seq))"
   ]
  },
  {
   "cell_type": "code",
   "execution_count": 1,
   "id": "511cac0d",
   "metadata": {},
   "outputs": [
    {
     "name": "stdout",
     "output_type": "stream",
     "text": [
      "Enter the String:dog is dog not only but also dog\n"
     ]
    },
    {
     "data": {
      "text/plain": [
       "3"
      ]
     },
     "execution_count": 1,
     "metadata": {},
     "output_type": "execute_result"
    }
   ],
   "source": [
    "#Create a function that counts the number of times the word \"dog\" occurs in a string\n",
    "\n",
    "def countdog(d):\n",
    "    return(d.count(\"dog\"))\n",
    "\n",
    "x=input(\"Enter the String:\")\n",
    "countdog(x)"
   ]
  },
  {
   "cell_type": "code",
   "execution_count": 3,
   "id": "9136d861",
   "metadata": {},
   "outputs": [
    {
     "data": {
      "text/plain": [
       "['dog', 'cat', 'great']"
      ]
     },
     "execution_count": 3,
     "metadata": {},
     "output_type": "execute_result"
    }
   ],
   "source": [
    "#  Use lambda expressions and the filter() function to filter out words from a list that don't\n",
    "\n",
    "seq=['soup','dog','salad','cat','great']\n",
    "v=list(filter(lambda x:x[0]!=\"s\",seq))\n",
    "v"
   ]
  },
  {
   "cell_type": "code",
   "execution_count": 64,
   "id": "bf190be8",
   "metadata": {},
   "outputs": [],
   "source": [
    "# find speed and ticket\n",
    "\n",
    "def find_speed(speed,is_birthday):\n",
    "    if is_birthday:\n",
    "        speed2=speed-5\n",
    "    else:\n",
    "        speed2=speed\n",
    "    if speed2>=81:\n",
    "        print(\"Big Ticket\")\n",
    "    elif speed2>=61:\n",
    "        print(\"Small Ticket\")\n",
    "    else:\n",
    "        print(\"No Ticket\")"
   ]
  },
  {
   "cell_type": "code",
   "execution_count": 65,
   "id": "32aa110f",
   "metadata": {},
   "outputs": [
    {
     "name": "stdout",
     "output_type": "stream",
     "text": [
      "Big Ticket\n"
     ]
    }
   ],
   "source": [
    "find_speed(88,1)"
   ]
  },
  {
   "cell_type": "code",
   "execution_count": 66,
   "id": "d25f1b5f",
   "metadata": {},
   "outputs": [
    {
     "name": "stdout",
     "output_type": "stream",
     "text": [
      "No Ticket\n"
     ]
    }
   ],
   "source": [
    "find_speed(37,0)"
   ]
  },
  {
   "cell_type": "code",
   "execution_count": 4,
   "id": "ea086104",
   "metadata": {},
   "outputs": [
    {
     "name": "stdout",
     "output_type": "stream",
     "text": [
      "hd654k0\n",
      "6540"
     ]
    }
   ],
   "source": [
    "#Given a string print number num by extracting all the digits from the string as in string Print negative number if the first character in string is '-' eg. -123abcd should return -123,abcd456-->456,fdhfh78dsd89--->7889,- 56dssd78-->-5678\n",
    "\n",
    "x=input()\n",
    "ls=[]\n",
    "if(x[0])==\"-\":\n",
    "    ls=['0','1','2','3','4','5','6','7','8','9','-']\n",
    "else:\n",
    "    ls=['0','1','2','3','4','5','6','7','8','9']\n",
    "for i in x:\n",
    "    if i in ls:\n",
    "        print(i,end=\"\")"
   ]
  },
  {
   "cell_type": "code",
   "execution_count": 5,
   "id": "c5e7610f",
   "metadata": {},
   "outputs": [],
   "source": [
    "#WAP to check whether a number is palindrome or not on following conditions.\n",
    "#take input number\n",
    "#add number and its reverse\n",
    "#check that number is palindrome or not,if not then sum and its reverse\n",
    "\n",
    "\n",
    "def add(n):\n",
    "    n=input(\"Enter Number::\")\n",
    "    r=int(str(n[::-1]))\n",
    "    add=str(int(n)+r)\n",
    "    \n",
    "    while add!=add[::-1]:\n",
    "        add=str(int(add)+int(add[::-1]))\n",
    "    \n",
    "        print(\"Number is \",add)\n",
    "        print(\"Reverse is \",add[::-1])\n",
    "    print(\"Palindrome is \",add)\n",
    "    "
   ]
  },
  {
   "cell_type": "code",
   "execution_count": 6,
   "id": "769033c8",
   "metadata": {},
   "outputs": [
    {
     "name": "stdout",
     "output_type": "stream",
     "text": [
      "Enter Number::88\n",
      "Number is  847\n",
      "Reverse is  748\n",
      "Number is  1595\n",
      "Reverse is  5951\n",
      "Number is  7546\n",
      "Reverse is  6457\n",
      "Number is  14003\n",
      "Reverse is  30041\n",
      "Number is  44044\n",
      "Reverse is  44044\n",
      "Palindrome is  44044\n"
     ]
    }
   ],
   "source": [
    "add(3)"
   ]
  },
  {
   "cell_type": "code",
   "execution_count": 7,
   "id": "ecf0885c",
   "metadata": {},
   "outputs": [],
   "source": [
    "#digit number in which the first digit is two more than the second,the second digit is two more than the third, the fourth digit is two less than the third, and the last digit is two more than the fourth.The sum of the third,fourth and fifth digits equals the first.The sum of all the digits is 19\n",
    "\n",
    "def number(n):\n",
    "    if((int(n[0])-int(n[1]))==2):\n",
    "        if((int(n[1])-int(n[2]))==2):\n",
    "            if((int(n[2])-int(n[3]))==2):\n",
    "                if((int(n[3])-int(n[4]))==-2):\n",
    "                    if((int(n[2])+int(n[3])+int(n[4]))==int(n[0])):\n",
    "                        if(int(n[0])+int(n[1])+int(n[2])+int(n[3])+int(n[4])==19):\n",
    "                            print(n)     "
   ]
  },
  {
   "cell_type": "code",
   "execution_count": 9,
   "id": "72335af8",
   "metadata": {},
   "outputs": [
    {
     "name": "stdout",
     "output_type": "stream",
     "text": [
      "75313\n"
     ]
    }
   ],
   "source": [
    "for i in range(10000,100000):\n",
    "    number(str(i))"
   ]
  },
  {
   "cell_type": "code",
   "execution_count": null,
   "id": "a9138f4c",
   "metadata": {},
   "outputs": [],
   "source": []
  }
 ],
 "metadata": {
  "kernelspec": {
   "display_name": "Python 3 (ipykernel)",
   "language": "python",
   "name": "python3"
  },
  "language_info": {
   "codemirror_mode": {
    "name": "ipython",
    "version": 3
   },
   "file_extension": ".py",
   "mimetype": "text/x-python",
   "name": "python",
   "nbconvert_exporter": "python",
   "pygments_lexer": "ipython3",
   "version": "3.9.7"
  }
 },
 "nbformat": 4,
 "nbformat_minor": 5
}
